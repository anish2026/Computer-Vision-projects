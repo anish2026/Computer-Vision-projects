{
 "cells": [
  {
   "cell_type": "markdown",
   "id": "907fb462",
   "metadata": {},
   "source": [
    "# Drawing on images "
   ]
  },
  {
   "cell_type": "code",
   "execution_count": 1,
   "id": "ad6c8c97",
   "metadata": {},
   "outputs": [
    {
     "data": {
      "text/plain": [
       "-1"
      ]
     },
     "execution_count": 1,
     "metadata": {},
     "output_type": "execute_result"
    }
   ],
   "source": [
    "#first we need to know how to print blank images, so for doing this numpy is our best friend\n",
    "\n",
    "import cv2 as cv\n",
    "import numpy as np\n",
    "\n",
    "blank_image = np.zeros((500,500,3),dtype = 'uint8')        #uint is the dataype of Image\n",
    "\n",
    "\n",
    "\n",
    "#colouring red from 0 to 100 vertically and 200 to 400 horizontally , red == 0,0,255\n",
    "blank_image[0:100,200:400]=0,0,255\n",
    "\n",
    "#colouring green from 100 to 200 vertically and 200 to 400 horizontally , green == 0,255,0\n",
    "blank_image[100:200,200:400]= 0,255,0\n",
    "\n",
    "#colouring blue from 200 to 300 vertically and 200 to 400 horizontally , blue == 255,0,0\n",
    "blank_image[200:300,200:400]=255,0,0\n",
    "\n",
    "cv.imshow('BLANK IMAGE',blank_image)\n",
    "cv.waitKey(0)\n",
    "\n"
   ]
  },
  {
   "cell_type": "code",
   "execution_count": 2,
   "id": "74d5094d",
   "metadata": {},
   "outputs": [
    {
     "data": {
      "text/plain": [
       "-1"
      ]
     },
     "execution_count": 2,
     "metadata": {},
     "output_type": "execute_result"
    }
   ],
   "source": [
    "# our second task is to draw rectangle,circle , line etc  on a blank image , it is very important basic concept as it will be used everywhere\n",
    "\n",
    "import cv2 as cv\n",
    "import numpy as np\n",
    "\n",
    "blank = np.zeros((500,500,4),dtype = 'uint8') \n",
    "\n",
    "cv.rectangle(blank,(0,0),(250,250),(0,255,0),thickness=2)\n",
    "cv.imshow('rectangle on image',blank)\n",
    "\n",
    "\n",
    "cv.circle(blank,(250,250),40,(0,0,250),thickness=3)\n",
    "cv.imshow('Circle on image',blank)\n",
    "\n",
    "cv.line(blank,(0,0),(250,250),(255,255,255),thickness=2)\n",
    "cv.imshow('Line on image',blank)\n",
    "cv.waitKey(0)\n"
   ]
  },
  {
   "cell_type": "code",
   "execution_count": 10,
   "id": "ba02bbe9",
   "metadata": {},
   "outputs": [
    {
     "data": {
      "text/plain": [
       "-1"
      ]
     },
     "execution_count": 10,
     "metadata": {},
     "output_type": "execute_result"
    }
   ],
   "source": [
    "#its time to write text on your image using putText()\n",
    "\n",
    "import cv2 as cv\n",
    "import numpy as np\n",
    "\n",
    "blank = np.zeros((300,300,3),dtype = 'uint8')\n",
    "\n",
    "cv.putText(blank,'Hello',(100,150),cv.FONT_HERSHEY_TRIPLEX,1.0,(0,255,0),2)\n",
    "cv.imshow('Text',blank)\n",
    "cv.waitKey(0)\n",
    "\n"
   ]
  },
  {
   "cell_type": "code",
   "execution_count": null,
   "id": "ae81da3b",
   "metadata": {},
   "outputs": [],
   "source": []
  }
 ],
 "metadata": {
  "kernelspec": {
   "display_name": "Python 3 (ipykernel)",
   "language": "python",
   "name": "python3"
  },
  "language_info": {
   "codemirror_mode": {
    "name": "ipython",
    "version": 3
   },
   "file_extension": ".py",
   "mimetype": "text/x-python",
   "name": "python",
   "nbconvert_exporter": "python",
   "pygments_lexer": "ipython3",
   "version": "3.9.12"
  }
 },
 "nbformat": 4,
 "nbformat_minor": 5
}
