{
 "cells": [
  {
   "cell_type": "markdown",
   "id": "af7b9aa5",
   "metadata": {},
   "source": [
    "# Resize image/video"
   ]
  },
  {
   "cell_type": "code",
   "execution_count": null,
   "id": "13c17626",
   "metadata": {},
   "outputs": [],
   "source": [
    "# now we need to resize that particular image\n",
    "\n",
    "import cv2 as cv\n",
    "\n",
    "image=cv.imread('cv_test.jpg')\n",
    "cv.imshow('Dog',image)\n",
    "cv.waitKey(0)\n",
    "\n",
    "def rescaleimage(image,scale=0.25):\n",
    "    \n",
    "    width = int(image.shape[1]*scale)\n",
    "    height = int(image.shape[0]*scale)\n",
    "    dimensions=(width,height)\n",
    "    \n",
    "    k=cv.resize(image,dimensions,interpolation = cv.INTER_AREA)\n",
    "    \n",
    "    return k\n",
    "\n",
    "ans = rescaleimage(image))\n",
    "cv.imshow('resized image',ans)\n",
    "cv.waitKey(0)\n",
    "\n",
    "    "
   ]
  },
  {
   "cell_type": "code",
   "execution_count": null,
   "id": "91170f14",
   "metadata": {},
   "outputs": [],
   "source": [
    "# Now our second task is to resize the video \n",
    "#original video\n",
    "\n",
    "import cv2 as cv\n",
    "\n",
    "def rescaleimage(image,scale=0.25):\n",
    "    \n",
    "    width = int(image.shape[1]*scale)\n",
    "    height = int(image.shape[0]*scale)\n",
    "    dimensions=(width,height)\n",
    "    \n",
    "    k=cv.resize(image,dimensions,interpolation = cv.INTER_AREA)\n",
    "    \n",
    "    return k\n",
    "video = cv.VideoCapture('dog_a6NkLHuA.mp4')\n",
    "\n",
    "while True:\n",
    "    \n",
    "    IsTrue,frame = video.read()\n",
    "    resized_video = rescaleimage(frame)\n",
    "    \n",
    "    cv.imshow('original video',frame)    #this will show original video\n",
    "    \n",
    "    cv.imshow('Resized video',resized_video)   #this will show resized video \n",
    "    \n",
    "    if cv.waitKey(20)and 0xFF == ord('q'):\n",
    "        break\n",
    "\n",
    "video.release()\n",
    "cv.destroyAllWindows()\n"
   ]
  },
  {
   "cell_type": "markdown",
   "id": "5cb2d601",
   "metadata": {},
   "source": [
    "The resize function which I made now works for both real time images or videos and existing images/videos ! However theere is another function called set() which takes two parameter , one name of variable to be changed like height,width etc and the second by what value. So this way of rescaling or resolution of image can be only done in real time , not to the existing files."
   ]
  },
  {
   "cell_type": "code",
   "execution_count": null,
   "id": "fb138ef5",
   "metadata": {},
   "outputs": [],
   "source": []
  }
 ],
 "metadata": {
  "kernelspec": {
   "display_name": "Python 3 (ipykernel)",
   "language": "python",
   "name": "python3"
  },
  "language_info": {
   "codemirror_mode": {
    "name": "ipython",
    "version": 3
   },
   "file_extension": ".py",
   "mimetype": "text/x-python",
   "name": "python",
   "nbconvert_exporter": "python",
   "pygments_lexer": "ipython3",
   "version": "3.9.12"
  }
 },
 "nbformat": 4,
 "nbformat_minor": 5
}
