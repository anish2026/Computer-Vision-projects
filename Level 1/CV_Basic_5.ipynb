{
 "cells": [
  {
   "cell_type": "markdown",
   "id": "6b7a31f8",
   "metadata": {},
   "source": [
    "# Transformations"
   ]
  },
  {
   "cell_type": "markdown",
   "id": "51bb08cd",
   "metadata": {},
   "source": [
    "## Translation"
   ]
  },
  {
   "cell_type": "code",
   "execution_count": 1,
   "id": "ea1ca64f",
   "metadata": {},
   "outputs": [
    {
     "data": {
      "text/plain": [
       "-1"
      ]
     },
     "execution_count": 1,
     "metadata": {},
     "output_type": "execute_result"
    }
   ],
   "source": [
    "#translation means shifting the cordinate up,down,right or left\n",
    "import cv2 as cv\n",
    "import numpy as np\n",
    "img = cv.imread('jaipur.jpg')\n",
    "\n",
    "cv.imshow('Original',img)\n",
    "cv.waitKey(0)"
   ]
  },
  {
   "cell_type": "code",
   "execution_count": 2,
   "id": "bfdd780c",
   "metadata": {},
   "outputs": [
    {
     "data": {
      "text/plain": [
       "-1"
      ]
     },
     "execution_count": 2,
     "metadata": {},
     "output_type": "execute_result"
    }
   ],
   "source": [
    "def translate(img,x,y):\n",
    "    transMat = np.float32([[1,0,x],[0,1,y]])\n",
    "    dimensions = (img.shape[1],img.shape[0])\n",
    "    return cv.warpAffine(img,transMat,dimensions)\n",
    "\n",
    "# +x means shifting right\n",
    "# -x means shifting left \n",
    "# +y means shifting down \n",
    "# -y means shifting up\n",
    "\n",
    "translated_image = translate(img,100,100)\n",
    "cv.imshow('Translated Image',translated_image)\n",
    "cv.waitKey(0)"
   ]
  },
  {
   "cell_type": "markdown",
   "id": "6a854c95",
   "metadata": {},
   "source": [
    "## Rotation"
   ]
  },
  {
   "cell_type": "code",
   "execution_count": 3,
   "id": "3e695598",
   "metadata": {},
   "outputs": [
    {
     "data": {
      "text/plain": [
       "-1"
      ]
     },
     "execution_count": 3,
     "metadata": {},
     "output_type": "execute_result"
    }
   ],
   "source": [
    "def rotation(img,angle,rotPoint=None):\n",
    "    (width,height) = img.shape[0],img.shape[1]\n",
    "    \n",
    "    if rotPoint is None:\n",
    "        rotPoint = (width//2,height//2)\n",
    "    \n",
    "    rotMat = cv.getRotationMatrix2D(rotPoint,angle,1.0)\n",
    "    dimensions = (width,height)\n",
    "    return cv.warpAffine(img,rotMat,dimensions)\n",
    "\n",
    "rotated_image = rotation(img,-45)\n",
    "cv.imshow(\"Rotated\",rotated_image)\n",
    "cv.waitKey(0)\n",
    "\n",
    "    \n",
    "    "
   ]
  },
  {
   "cell_type": "markdown",
   "id": "f8d02e95",
   "metadata": {},
   "source": [
    "## Flipping"
   ]
  },
  {
   "cell_type": "code",
   "execution_count": 9,
   "id": "f7ee35a6",
   "metadata": {},
   "outputs": [
    {
     "data": {
      "text/plain": [
       "-1"
      ]
     },
     "execution_count": 9,
     "metadata": {},
     "output_type": "execute_result"
    }
   ],
   "source": [
    "#for flipping we dont need anything except the cv.flip(img,a) where a can be 0,1 and -1. \n",
    "# 0 means flipping vertically \n",
    "# 1 means flipping horizontally \n",
    "# -1 means doing both\n",
    "\n",
    "flip = cv.flip(img,0)\n",
    "cv.imshow('Flipped image',flip)\n",
    "cv.waitKey(0)"
   ]
  },
  {
   "cell_type": "code",
   "execution_count": null,
   "id": "8cfa9e86",
   "metadata": {},
   "outputs": [],
   "source": []
  }
 ],
 "metadata": {
  "kernelspec": {
   "display_name": "Python 3 (ipykernel)",
   "language": "python",
   "name": "python3"
  },
  "language_info": {
   "codemirror_mode": {
    "name": "ipython",
    "version": 3
   },
   "file_extension": ".py",
   "mimetype": "text/x-python",
   "name": "python",
   "nbconvert_exporter": "python",
   "pygments_lexer": "ipython3",
   "version": "3.9.12"
  }
 },
 "nbformat": 4,
 "nbformat_minor": 5
}
